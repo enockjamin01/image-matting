{
 "cells": [
  {
   "cell_type": "code",
   "execution_count": 6,
   "metadata": {},
   "outputs": [],
   "source": [
    "import os\n",
    "import cv2 as cv"
   ]
  },
  {
   "cell_type": "code",
   "execution_count": 7,
   "metadata": {},
   "outputs": [],
   "source": [
    "def write_images(source,destination):\n",
    "    img_num=1\n",
    "    count=0\n",
    "    for filename in os.listdir(source):\n",
    "        img=cv.imread(os.path.join(source,filename))\n",
    "        if img is not None:\n",
    "            cv.imwrite(os.path.join(destination,str(img_num)+\".png\"),img)\n",
    "            img_num+=1\n",
    "            count+=1\n",
    "    print(count,\" Number of Images written\")"
   ]
  },
  {
   "cell_type": "code",
   "execution_count": 8,
   "metadata": {},
   "outputs": [
    {
     "name": "stdout",
     "output_type": "stream",
     "text": [
      "239  Number of Images written\n"
     ]
    }
   ],
   "source": [
    "write_images(source=\"./images/\",destination=\"./dataset/images/\")"
   ]
  },
  {
   "cell_type": "code",
   "execution_count": null,
   "metadata": {},
   "outputs": [],
   "source": []
  }
 ],
 "metadata": {
  "kernelspec": {
   "display_name": "Python 3",
   "language": "python",
   "name": "python3"
  },
  "language_info": {
   "codemirror_mode": {
    "name": "ipython",
    "version": 3
   },
   "file_extension": ".py",
   "mimetype": "text/x-python",
   "name": "python",
   "nbconvert_exporter": "python",
   "pygments_lexer": "ipython3",
   "version": "3.10.13"
  }
 },
 "nbformat": 4,
 "nbformat_minor": 2
}
